{
 "cells": [
  {
   "cell_type": "markdown",
   "metadata": {},
   "source": []
  },
  {
   "cell_type": "code",
   "execution_count": 1,
   "metadata": {},
   "outputs": [
    {
     "name": "stdout",
     "output_type": "stream",
     "text": [
      "2\n",
      "3\n",
      "0\n",
      "0\n"
     ]
    }
   ],
   "source": [
    "def numDecodings(s):\n",
    "    if not s:\n",
    "        return 0\n",
    "    \n",
    "    # Initialize the DP array\n",
    "    dp = [0] * (len(s) + 1)\n",
    "    dp[0] = 1\n",
    "    dp[1] = 0 if s[0] == \"0\" else 1\n",
    "    \n",
    "    for i in range(2, len(s) + 1):\n",
    "        one_digit = int(s[i-1:i])\n",
    "        two_digit = int(s[i-2:i])\n",
    "        \n",
    "        # One-digit sequence\n",
    "        if one_digit >= 1:\n",
    "            dp[i] += dp[i - 1]\n",
    "        \n",
    "        # Two-digit sequence\n",
    "        if two_digit >= 10 and two_digit <= 26:\n",
    "            dp[i] += dp[i - 2]\n",
    "            \n",
    "    return dp[-1]\n",
    "\n",
    "# Test cases\n",
    "print(numDecodings(\"12\"))  # Output should be 2\n",
    "print(numDecodings(\"226\"))  # Output should be 3\n",
    "print(numDecodings(\"0\"))  # Output should be 0\n",
    "print(numDecodings(\"06\"))  # Output should be 0\n"
   ]
  },
  {
   "cell_type": "code",
   "execution_count": null,
   "metadata": {},
   "outputs": [],
   "source": []
  }
 ],
 "metadata": {
  "kernelspec": {
   "display_name": "Python 3",
   "language": "python",
   "name": "python3"
  },
  "language_info": {
   "codemirror_mode": {
    "name": "ipython",
    "version": 3
   },
   "file_extension": ".py",
   "mimetype": "text/x-python",
   "name": "python",
   "nbconvert_exporter": "python",
   "pygments_lexer": "ipython3",
   "version": "3.11.4"
  },
  "orig_nbformat": 4,
  "vscode": {
   "interpreter": {
    "hash": "b0fa6594d8f4cbf19f97940f81e996739fb7646882a419484c72d19e05852a7e"
   }
  }
 },
 "nbformat": 4,
 "nbformat_minor": 2
}
