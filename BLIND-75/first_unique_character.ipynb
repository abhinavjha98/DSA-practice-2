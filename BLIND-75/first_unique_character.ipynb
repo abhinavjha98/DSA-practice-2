{
 "cells": [
  {
   "attachments": {},
   "cell_type": "markdown",
   "metadata": {},
   "source": [
    "## First Unique Character in a String\n",
    "\n",
    "**Problem:**  \n",
    "Given a string \\( s \\), find the first non-repeating character in it and return its index. If it does not exist, return \\(-1\\).\n",
    "\n",
    "---\n",
    "\n",
    "**Examples:**  \n",
    "1. \\( s = \\text{\"leetcode\"} \\)  \n",
    "   Output: \\( 0 \\)\n",
    "\n",
    "2. \\( s = \\text{\"loveleetcode\"} \\)  \n",
    "   Output: \\( 2 \\)\n",
    "\n",
    "3. \\( s = \\text{\"aabb\"} \\)  \n",
    "   Output: \\( -1 \\)\n"
   ]
  },
  {
   "cell_type": "code",
   "execution_count": null,
   "metadata": {},
   "outputs": [],
   "source": []
  }
 ],
 "metadata": {
  "language_info": {
   "name": "python"
  },
  "orig_nbformat": 4
 },
 "nbformat": 4,
 "nbformat_minor": 2
}
