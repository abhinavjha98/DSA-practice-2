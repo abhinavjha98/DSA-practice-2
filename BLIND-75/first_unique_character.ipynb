{
 "cells": [
  {
   "attachments": {},
   "cell_type": "markdown",
   "metadata": {},
   "source": [
    "## First Unique Character in a String\n",
    "\n",
    "**Problem:**  \n",
    "Given a string \\( s \\), find the first non-repeating character in it and return its index. If it does not exist, return \\(-1\\).\n",
    "\n",
    "---\n",
    "\n",
    "**Examples:**  \n",
    "1. \\( s = \\text{\"leetcode\"} \\)  \n",
    "   Output: \\( 0 \\)\n",
    "\n",
    "2. \\( s = \\text{\"loveleetcode\"} \\)  \n",
    "   Output: \\( 2 \\)\n",
    "\n",
    "3. \\( s = \\text{\"aabb\"} \\)  \n",
    "   Output: \\( -1 \\)\n"
   ]
  },
  {
   "cell_type": "code",
   "execution_count": 1,
   "metadata": {},
   "outputs": [],
   "source": [
    "def firstUniqChar(s):\n",
    "    # Create a dictionary to store the frequency of each character\n",
    "    char_count = {}\n",
    "    \n",
    "    # Populate the dictionary with the frequency of each character\n",
    "    for char in s:\n",
    "        if char in char_count:\n",
    "            char_count[char] += 1\n",
    "        else:\n",
    "            char_count[char] = 1\n",
    "    \n",
    "    # Iterate through the string to find the first unique character\n",
    "    for i, char in enumerate(s):\n",
    "        if char_count[char] == 1:\n",
    "            return i\n",
    "    \n",
    "    return -1"
   ]
  },
  {
   "cell_type": "code",
   "execution_count": null,
   "metadata": {},
   "outputs": [],
   "source": []
  }
 ],
 "metadata": {
  "kernelspec": {
   "display_name": "Python 3",
   "language": "python",
   "name": "python3"
  },
  "language_info": {
   "codemirror_mode": {
    "name": "ipython",
    "version": 3
   },
   "file_extension": ".py",
   "mimetype": "text/x-python",
   "name": "python",
   "nbconvert_exporter": "python",
   "pygments_lexer": "ipython3",
   "version": "3.11.4"
  },
  "orig_nbformat": 4,
  "vscode": {
   "interpreter": {
    "hash": "b0fa6594d8f4cbf19f97940f81e996739fb7646882a419484c72d19e05852a7e"
   }
  }
 },
 "nbformat": 4,
 "nbformat_minor": 2
}
