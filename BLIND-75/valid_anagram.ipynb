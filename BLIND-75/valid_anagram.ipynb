{
 "cells": [
  {
   "attachments": {},
   "cell_type": "markdown",
   "metadata": {},
   "source": [
    "### 242. Valid Anagram\n",
    "\n",
    "**Problem Statement:**  \n",
    "Given two strings `s` and `t`, return `true` if `t` is an anagram of `s`, and `false` otherwise.\n",
    "\n",
    "_An Anagram is a word or phrase formed by rearranging the letters of a different word or phrase, typically using all the original letters exactly once._\n",
    "\n",
    "---\n",
    "\n",
    "**Example 1:**  \n",
    "Input: `s = \"anagram\", t = \"nagaram\"`  \n",
    "Output: `true`\n",
    "\n",
    "**Example 2:**  \n",
    "Input: `s = \"rat\", t = \"car\"`  \n",
    "Output: `false`\n",
    "\n",
    "---\n",
    "\n",
    "**Constraints:**  \n",
    "- \\( 1 \\leq \\text{s.length, t.length} \\leq 5 \\times 10^4 \\)\n",
    "- `s` and `t` consist of lowercase English letters.\n",
    "\n",
    "---\n",
    "\n",
    "**Follow up:** What if the inputs contain Unicode characters? How would you adapt your solution to such a case?\n"
   ]
  },
  {
   "cell_type": "code",
   "execution_count": null,
   "metadata": {},
   "outputs": [],
   "source": [
    "class Solution:\n",
    "    def isAnagram(self,s:str,t:str) -> bool:\n",
    "        if len(s) != len(t):\n",
    "            return False\n",
    "        countS,countT = {},{}\n",
    "        for i in range(len(s)):\n",
    "            countS[s[i]] = 1 + countS.get(s[i],0)\n",
    "            countT[t[i]] = 1 + countT.get(t[i],0)\n",
    "        for c in countS:\n",
    "            if countS[c] != countT.get(c,0):\n",
    "                return False\n",
    "        return True\n",
    "\n"
   ]
  },
  {
   "cell_type": "code",
   "execution_count": null,
   "metadata": {},
   "outputs": [],
   "source": []
  }
 ],
 "metadata": {
  "kernelspec": {
   "display_name": "Python 3",
   "language": "python",
   "name": "python3"
  },
  "language_info": {
   "name": "python",
   "version": "3.10.12 (main, Jul 28 2023, 18:34:01) [Clang 14.0.3 (clang-1403.0.22.14.1)]"
  },
  "orig_nbformat": 4,
  "vscode": {
   "interpreter": {
    "hash": "bd385fe162c5ca0c84973b7dd5c518456272446b2b64e67c2a69f949ca7a1754"
   }
  }
 },
 "nbformat": 4,
 "nbformat_minor": 2
}
