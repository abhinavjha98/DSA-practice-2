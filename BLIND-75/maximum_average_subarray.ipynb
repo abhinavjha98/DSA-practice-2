{
 "cells": [
  {
   "cell_type": "code",
   "execution_count": null,
   "metadata": {},
   "outputs": [],
   "source": []
  },
  {
   "attachments": {},
   "cell_type": "markdown",
   "metadata": {},
   "source": [
    "## 643. Maximum Average Subarray I\n",
    "\n",
    "**Difficulty:** Easy\n",
    "\n",
    "You are given an integer array `nums` consisting of \\( n \\) elements, and an integer \\( k \\).\n",
    "\n",
    "Find a contiguous subarray whose length is equal to \\( k \\) that has the maximum average value and return this value. Any answer with a calculation error less than \\( 10^{-5} \\) will be accepted.\n",
    "\n",
    "---\n",
    "\n",
    "**Example 1:**  \n",
    "```python\n",
    "Input: nums = [1,12,-5,-6,50,3], k = 4\n",
    "Output: 12.75000\n",
    "Explanation: Maximum average is (12 - 5 - 6 + 50) / 4 = 51 / 4 = 12.75\n",
    "```\n",
    "**Example 2:**  \n",
    "Input: nums = [5], k = 1\n",
    "Output: 5.00000\n",
    "\n",
    "**Constraints:**  \n",
    "- \\( n \\) is equal to nums.length\n",
    "- \\( 1 \\leq k \\leq n \\leq 10^5 \\)\n",
    "- \\( -10^4 \\leq \\text{nums}[i] \\leq 10^4 \\)\n"
   ]
  },
  {
   "cell_type": "markdown",
   "metadata": {},
   "source": []
  }
 ],
 "metadata": {
  "language_info": {
   "name": "python"
  },
  "orig_nbformat": 4
 },
 "nbformat": 4,
 "nbformat_minor": 2
}
