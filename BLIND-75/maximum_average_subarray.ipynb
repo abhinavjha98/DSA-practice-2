{
 "cells": [
  {
   "attachments": {},
   "cell_type": "markdown",
   "metadata": {},
   "source": [
    "## 643. Maximum Average Subarray I\n",
    "\n",
    "**Difficulty:** Easy\n",
    "\n",
    "You are given an integer array `nums` consisting of \\( n \\) elements, and an integer \\( k \\).\n",
    "\n",
    "Find a contiguous subarray whose length is equal to \\( k \\) that has the maximum average value and return this value. Any answer with a calculation error less than \\( 10^{-5} \\) will be accepted.\n",
    "\n",
    "---\n",
    "\n",
    "**Example 1:**  \n",
    "```python\n",
    "Input: nums = [1,12,-5,-6,50,3], k = 4\n",
    "Output: 12.75000\n",
    "Explanation: Maximum average is (12 - 5 - 6 + 50) / 4 = 51 / 4 = 12.75\n",
    "```\n",
    "**Example 2:**  \n",
    "Input: nums = [5], k = 1\n",
    "Output: 5.00000\n",
    "\n",
    "**Constraints:**  \n",
    "- \\( n \\) is equal to nums.length\n",
    "- \\( 1 \\leq k \\leq n \\leq 10^5 \\)\n",
    "- \\( -10^4 \\leq \\text{nums}[i] \\leq 10^4 \\)\n"
   ]
  },
  {
   "cell_type": "code",
   "execution_count": null,
   "metadata": {},
   "outputs": [],
   "source": [
    "def findMaxAverage(nums, k):\n",
    "    # Calculate the sum of the first `k` elements\n",
    "    curr_sum = sum(nums[:k])\n",
    "    max_sum = curr_sum\n",
    "    \n",
    "    # Slide the window over the rest of the elements\n",
    "    for i in range(k, len(nums)):\n",
    "        curr_sum = curr_sum - nums[i - k] + nums[i]\n",
    "        max_sum = max(max_sum, curr_sum)\n",
    "        \n",
    "    return max_sum / k\n"
   ]
  },
  {
   "cell_type": "markdown",
   "metadata": {},
   "source": []
  }
 ],
 "metadata": {
  "kernelspec": {
   "display_name": "Python 3",
   "language": "python",
   "name": "python3"
  },
  "language_info": {
   "name": "python",
   "version": "3.11.4 (main, Jul 25 2023, 17:36:13) [Clang 14.0.3 (clang-1403.0.22.14.1)]"
  },
  "orig_nbformat": 4,
  "vscode": {
   "interpreter": {
    "hash": "b0fa6594d8f4cbf19f97940f81e996739fb7646882a419484c72d19e05852a7e"
   }
  }
 },
 "nbformat": 4,
 "nbformat_minor": 2
}
