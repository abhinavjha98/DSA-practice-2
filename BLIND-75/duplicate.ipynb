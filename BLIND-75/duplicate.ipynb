{
 "cells": [
  {
   "cell_type": "code",
   "execution_count": null,
   "metadata": {},
   "outputs": [],
   "source": []
  },
  {
   "attachments": {},
   "cell_type": "markdown",
   "metadata": {},
   "source": [
    "## Contains Duplicate\n",
    "\n",
    "**Problem:**  \n",
    "Given an array of integers, find if the array contains any duplicates.\n",
    "\n",
    "Your function should return `true` if any value appears at least twice in the array, and it should return `false` if every element is distinct.\n",
    "\n",
    "---\n",
    "\n",
    "**Example:**  \n",
    "Input: `[1,2,3,1]`  \n",
    "Output: `true`\n"
   ]
  },
  {
   "cell_type": "markdown",
   "metadata": {},
   "source": []
  }
 ],
 "metadata": {
  "language_info": {
   "name": "python"
  },
  "orig_nbformat": 4
 },
 "nbformat": 4,
 "nbformat_minor": 2
}
