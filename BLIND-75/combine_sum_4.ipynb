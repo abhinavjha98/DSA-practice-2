{
 "cells": [
  {
   "cell_type": "markdown",
   "metadata": {},
   "source": []
  },
  {
   "attachments": {},
   "cell_type": "markdown",
   "metadata": {},
   "source": [
    "def combinationSum4(nums, target):\n",
    "    dp = [0] * (target + 1)\n",
    "    dp[0] = 1  # There's one way to make up the sum 0: with an empty combination\n",
    "    \n",
    "    for i in range(1, target + 1):\n",
    "        for num in nums:\n",
    "            if i >= num:\n",
    "                dp[i] += dp[i - num]\n",
    "                \n",
    "    return dp[target]\n",
    "\n",
    "# Test cases\n",
    "print(combinationSum4([1, 2, 3], 4))  # Output should be 7\n",
    "print(combinationSum4([9], 3))  # Output should be 0\n"
   ]
  }
 ],
 "metadata": {
  "language_info": {
   "name": "python"
  },
  "orig_nbformat": 4
 },
 "nbformat": 4,
 "nbformat_minor": 2
}
