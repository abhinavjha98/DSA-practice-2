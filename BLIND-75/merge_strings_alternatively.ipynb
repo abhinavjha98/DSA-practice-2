{
 "cells": [
  {
   "attachments": {},
   "cell_type": "markdown",
   "metadata": {},
   "source": [
    "## Merge Strings Alternately\n",
    "\n",
    "You are given two strings `word1` and `word2`. Merge the strings by adding letters in alternating order, starting with `word1`. If a string is longer than the other, append the additional letters onto the end of the merged string.\n",
    "\n",
    "Return the merged string.\n",
    "\n",
    "---\n",
    "\n",
    "**Example 1:**  \n",
    "Input: `word1 = \"abc\", word2 = \"pqr\"`  \n",
    "Output: `\"apbqcr\"`  \n",
    "**Explanation:** The merged string will be merged as so:  \n",
    "`word1`:  a   b   c  \n",
    "`word2`:    p   q   r  \n",
    "`merged`: a p b q c r\n",
    "\n",
    "**Example 2:**  \n",
    "Input: `word1 = \"ab\", word2 = \"pqrs\"`  \n",
    "Output: `\"apbqrs\"`  \n",
    "**Explanation:** Notice that as `word2` is longer, \"rs\" is appended to the end.  \n",
    "`word1`:  a   b   \n",
    "`word2`:    p   q   r   s  \n",
    "`merged`: a p b q   r   s\n",
    "\n",
    "**Example 3:**  \n",
    "Input: `word1 = \"abcd\", word2 = \"pq\"`  \n",
    "Output: `\"apbqcd\"`  \n",
    "**Explanation:** Notice that as `word1` is longer, \"cd\" is appended to the end.  \n",
    "`word1`:  a   b   c   d  \n",
    "`word2`:    p   q   \n",
    "`merged`: a p b q c   d\n",
    "\n",
    "---\n",
    "\n",
    "**Constraints:**  \n",
    "- \\(1 \\leq \\text{word1.length, word2.length} \\leq 100\\)\n",
    "- `word1` and `word2` consist of lowercase English letters.\n"
   ]
  },
  {
   "cell_type": "code",
   "execution_count": null,
   "metadata": {},
   "outputs": [],
   "source": [
    "class Solution:\n",
    "    def mergeAlternately(self, word1: str, word2: str) -> str:\n",
    "        merged = []\n",
    "        for w1, w2 in zip(word1, word2):\n",
    "            merged.extend([w1, w2])\n",
    "        # If any of the words have remaining characters, extend the merged list with them\n",
    "        if len(word1) > len(word2):\n",
    "            merged.extend(word1[len(word2):])\n",
    "        else:\n",
    "            merged.extend(word2[len(word1):])\n",
    "        return ''.join(merged)\n"
   ]
  },
  {
   "cell_type": "code",
   "execution_count": null,
   "metadata": {},
   "outputs": [],
   "source": []
  }
 ],
 "metadata": {
  "kernelspec": {
   "display_name": "Python 3",
   "language": "python",
   "name": "python3"
  },
  "language_info": {
   "name": "python",
   "version": "3.11.4 (main, Jul 25 2023, 17:36:13) [Clang 14.0.3 (clang-1403.0.22.14.1)]"
  },
  "orig_nbformat": 4,
  "vscode": {
   "interpreter": {
    "hash": "b0fa6594d8f4cbf19f97940f81e996739fb7646882a419484c72d19e05852a7e"
   }
  }
 },
 "nbformat": 4,
 "nbformat_minor": 2
}
