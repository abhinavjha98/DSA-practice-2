{
 "cells": [
  {
   "attachments": {},
   "cell_type": "markdown",
   "metadata": {},
   "source": [
    "## Merge Strings Alternately\n",
    "\n",
    "You are given two strings `word1` and `word2`. Merge the strings by adding letters in alternating order, starting with `word1`. If a string is longer than the other, append the additional letters onto the end of the merged string.\n",
    "\n",
    "Return the merged string.\n",
    "\n",
    "---\n",
    "\n",
    "**Example 1:**  \n",
    "Input: `word1 = \"abc\", word2 = \"pqr\"`  \n",
    "Output: `\"apbqcr\"`  \n",
    "**Explanation:** The merged string will be merged as so:  \n",
    "`word1`:  a   b   c  \n",
    "`word2`:    p   q   r  \n",
    "`merged`: a p b q c r\n",
    "\n",
    "**Example 2:**  \n",
    "Input: `word1 = \"ab\", word2 = \"pqrs\"`  \n",
    "Output: `\"apbqrs\"`  \n",
    "**Explanation:** Notice that as `word2` is longer, \"rs\" is appended to the end.  \n",
    "`word1`:  a   b   \n",
    "`word2`:    p   q   r   s  \n",
    "`merged`: a p b q   r   s\n",
    "\n",
    "**Example 3:**  \n",
    "Input: `word1 = \"abcd\", word2 = \"pq\"`  \n",
    "Output: `\"apbqcd\"`  \n",
    "**Explanation:** Notice that as `word1` is longer, \"cd\" is appended to the end.  \n",
    "`word1`:  a   b   c   d  \n",
    "`word2`:    p   q   \n",
    "`merged`: a p b q c   d\n",
    "\n",
    "---\n",
    "\n",
    "**Constraints:**  \n",
    "- \\(1 \\leq \\text{word1.length, word2.length} \\leq 100\\)\n",
    "- `word1` and `word2` consist of lowercase English letters.\n"
   ]
  },
  {
   "cell_type": "code",
   "execution_count": null,
   "metadata": {},
   "outputs": [],
   "source": []
  }
 ],
 "metadata": {
  "language_info": {
   "name": "python"
  },
  "orig_nbformat": 4
 },
 "nbformat": 4,
 "nbformat_minor": 2
}
